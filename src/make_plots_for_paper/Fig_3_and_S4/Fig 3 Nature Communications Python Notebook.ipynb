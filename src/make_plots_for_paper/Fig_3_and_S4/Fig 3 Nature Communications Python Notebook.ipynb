{
 "cells": [
  {
   "cell_type": "code",
   "execution_count": 89,
   "metadata": {},
   "outputs": [],
   "source": [
    "import pandas as pd\n",
    "import numpy as np\n",
    "import matplotlib.pyplot as plt\n",
    "import matplotlib"
   ]
  },
  {
   "cell_type": "markdown",
   "metadata": {},
   "source": [
    "# Get data from Prism files"
   ]
  },
  {
   "cell_type": "markdown",
   "metadata": {},
   "source": [
    "### Get data for predict-then-optimize, Sfp"
   ]
  },
  {
   "cell_type": "code",
   "execution_count": 90,
   "metadata": {},
   "outputs": [
    {
     "data": {
      "text/html": [
       "<div>\n",
       "<style scoped>\n",
       "    .dataframe tbody tr th:only-of-type {\n",
       "        vertical-align: middle;\n",
       "    }\n",
       "\n",
       "    .dataframe tbody tr th {\n",
       "        vertical-align: top;\n",
       "    }\n",
       "\n",
       "    .dataframe thead th {\n",
       "        text-align: right;\n",
       "    }\n",
       "</style>\n",
       "<table border=\"1\" class=\"dataframe\">\n",
       "  <thead>\n",
       "    <tr style=\"text-align: right;\">\n",
       "      <th></th>\n",
       "      <th>x</th>\n",
       "      <th>y</th>\n",
       "    </tr>\n",
       "  </thead>\n",
       "  <tbody>\n",
       "    <tr>\n",
       "      <th>0</th>\n",
       "      <td>-16.83725</td>\n",
       "      <td>-3.135146</td>\n",
       "    </tr>\n",
       "    <tr>\n",
       "      <th>6</th>\n",
       "      <td>-16.70545</td>\n",
       "      <td>-2.535731</td>\n",
       "    </tr>\n",
       "    <tr>\n",
       "      <th>8</th>\n",
       "      <td>-16.61805</td>\n",
       "      <td>-2.141162</td>\n",
       "    </tr>\n",
       "    <tr>\n",
       "      <th>10</th>\n",
       "      <td>-16.38036</td>\n",
       "      <td>-2.782930</td>\n",
       "    </tr>\n",
       "    <tr>\n",
       "      <th>22</th>\n",
       "      <td>-15.99536</td>\n",
       "      <td>-2.780348</td>\n",
       "    </tr>\n",
       "  </tbody>\n",
       "</table>\n",
       "</div>"
      ],
      "text/plain": [
       "           x         y\n",
       "0  -16.83725 -3.135146\n",
       "6  -16.70545 -2.535731\n",
       "8  -16.61805 -2.141162\n",
       "10 -16.38036 -2.782930\n",
       "22 -15.99536 -2.780348"
      ]
     },
     "execution_count": 90,
     "metadata": {},
     "output_type": "execute_result"
    }
   ],
   "source": [
    "predict_sfp = pd.read_csv('FIG3CD/Predict-then-Optimize_Sfp.csv',header=None)\n",
    "predict_sfp = predict_sfp.iloc[:,0:2] # get rid of extraneous third column\n",
    "predict_sfp.columns = ['x','y']\n",
    "predict_sfp = predict_sfp[~predict_sfp.isnull().all(axis=1)] # get rid of rows with all NaN\n",
    "predict_sfp.head()"
   ]
  },
  {
   "cell_type": "markdown",
   "metadata": {},
   "source": [
    "### Data for mutation, Sfp"
   ]
  },
  {
   "cell_type": "code",
   "execution_count": 91,
   "metadata": {},
   "outputs": [
    {
     "data": {
      "text/html": [
       "<div>\n",
       "<style scoped>\n",
       "    .dataframe tbody tr th:only-of-type {\n",
       "        vertical-align: middle;\n",
       "    }\n",
       "\n",
       "    .dataframe tbody tr th {\n",
       "        vertical-align: top;\n",
       "    }\n",
       "\n",
       "    .dataframe thead th {\n",
       "        text-align: right;\n",
       "    }\n",
       "</style>\n",
       "<table border=\"1\" class=\"dataframe\">\n",
       "  <thead>\n",
       "    <tr style=\"text-align: right;\">\n",
       "      <th></th>\n",
       "      <th>Unnamed: 0</th>\n",
       "      <th>Mutation</th>\n",
       "      <th>Mutation.1</th>\n",
       "    </tr>\n",
       "  </thead>\n",
       "  <tbody>\n",
       "    <tr>\n",
       "      <th>0</th>\n",
       "      <td>NaN</td>\n",
       "      <td>NaN</td>\n",
       "      <td>NaN</td>\n",
       "    </tr>\n",
       "    <tr>\n",
       "      <th>1</th>\n",
       "      <td>-13.96208</td>\n",
       "      <td>-12.6828</td>\n",
       "      <td>NaN</td>\n",
       "    </tr>\n",
       "    <tr>\n",
       "      <th>2</th>\n",
       "      <td>NaN</td>\n",
       "      <td>NaN</td>\n",
       "      <td>NaN</td>\n",
       "    </tr>\n",
       "    <tr>\n",
       "      <th>3</th>\n",
       "      <td>NaN</td>\n",
       "      <td>NaN</td>\n",
       "      <td>NaN</td>\n",
       "    </tr>\n",
       "    <tr>\n",
       "      <th>4</th>\n",
       "      <td>NaN</td>\n",
       "      <td>NaN</td>\n",
       "      <td>NaN</td>\n",
       "    </tr>\n",
       "  </tbody>\n",
       "</table>\n",
       "</div>"
      ],
      "text/plain": [
       "   Unnamed: 0  Mutation  Mutation.1\n",
       "0         NaN       NaN         NaN\n",
       "1   -13.96208  -12.6828         NaN\n",
       "2         NaN       NaN         NaN\n",
       "3         NaN       NaN         NaN\n",
       "4         NaN       NaN         NaN"
      ]
     },
     "execution_count": 91,
     "metadata": {},
     "output_type": "execute_result"
    }
   ],
   "source": [
    "mutation_sfp = pd.read_csv('FIG3CD/Mutation_Sfp.csv') # Use first row as header\n",
    "mutation_sfp.head()"
   ]
  },
  {
   "cell_type": "code",
   "execution_count": 92,
   "metadata": {},
   "outputs": [
    {
     "data": {
      "text/html": [
       "<div>\n",
       "<style scoped>\n",
       "    .dataframe tbody tr th:only-of-type {\n",
       "        vertical-align: middle;\n",
       "    }\n",
       "\n",
       "    .dataframe tbody tr th {\n",
       "        vertical-align: top;\n",
       "    }\n",
       "\n",
       "    .dataframe thead th {\n",
       "        text-align: right;\n",
       "    }\n",
       "</style>\n",
       "<table border=\"1\" class=\"dataframe\">\n",
       "  <thead>\n",
       "    <tr style=\"text-align: right;\">\n",
       "      <th></th>\n",
       "      <th>x</th>\n",
       "      <th>y</th>\n",
       "    </tr>\n",
       "  </thead>\n",
       "  <tbody>\n",
       "    <tr>\n",
       "      <th>1</th>\n",
       "      <td>-13.96208</td>\n",
       "      <td>-12.682800</td>\n",
       "    </tr>\n",
       "    <tr>\n",
       "      <th>5</th>\n",
       "      <td>-13.49027</td>\n",
       "      <td>-14.675290</td>\n",
       "    </tr>\n",
       "    <tr>\n",
       "      <th>11</th>\n",
       "      <td>-12.60430</td>\n",
       "      <td>-15.903180</td>\n",
       "    </tr>\n",
       "    <tr>\n",
       "      <th>12</th>\n",
       "      <td>-12.54038</td>\n",
       "      <td>-13.889620</td>\n",
       "    </tr>\n",
       "    <tr>\n",
       "      <th>13</th>\n",
       "      <td>-12.50728</td>\n",
       "      <td>8.268995</td>\n",
       "    </tr>\n",
       "  </tbody>\n",
       "</table>\n",
       "</div>"
      ],
      "text/plain": [
       "           x          y\n",
       "1  -13.96208 -12.682800\n",
       "5  -13.49027 -14.675290\n",
       "11 -12.60430 -15.903180\n",
       "12 -12.54038 -13.889620\n",
       "13 -12.50728   8.268995"
      ]
     },
     "execution_count": 92,
     "metadata": {},
     "output_type": "execute_result"
    }
   ],
   "source": [
    "mutation_sfp = mutation_sfp.iloc[:,0:2] # get rid of extraneous third column\n",
    "mutation_sfp.columns = ['x','y']\n",
    "mutation_sfp = mutation_sfp[~mutation_sfp.isnull().all(axis=1)] # get rid of rows with all NaN\n",
    "mutation_sfp.head()"
   ]
  },
  {
   "cell_type": "markdown",
   "metadata": {},
   "source": [
    "### Get data for POOL, Sfp"
   ]
  },
  {
   "cell_type": "code",
   "execution_count": 93,
   "metadata": {},
   "outputs": [
    {
     "data": {
      "text/html": [
       "<div>\n",
       "<style scoped>\n",
       "    .dataframe tbody tr th:only-of-type {\n",
       "        vertical-align: middle;\n",
       "    }\n",
       "\n",
       "    .dataframe tbody tr th {\n",
       "        vertical-align: top;\n",
       "    }\n",
       "\n",
       "    .dataframe thead th {\n",
       "        text-align: right;\n",
       "    }\n",
       "</style>\n",
       "<table border=\"1\" class=\"dataframe\">\n",
       "  <thead>\n",
       "    <tr style=\"text-align: right;\">\n",
       "      <th></th>\n",
       "      <th>Unnamed: 0</th>\n",
       "      <th>POOL</th>\n",
       "      <th>POOL.1</th>\n",
       "    </tr>\n",
       "  </thead>\n",
       "  <tbody>\n",
       "    <tr>\n",
       "      <th>0</th>\n",
       "      <td>-16.784350</td>\n",
       "      <td>-1.540635</td>\n",
       "      <td>NaN</td>\n",
       "    </tr>\n",
       "    <tr>\n",
       "      <th>1</th>\n",
       "      <td>14.884740</td>\n",
       "      <td>-6.117420</td>\n",
       "      <td>NaN</td>\n",
       "    </tr>\n",
       "    <tr>\n",
       "      <th>2</th>\n",
       "      <td>15.804820</td>\n",
       "      <td>-5.245312</td>\n",
       "      <td>NaN</td>\n",
       "    </tr>\n",
       "    <tr>\n",
       "      <th>3</th>\n",
       "      <td>9.606956</td>\n",
       "      <td>11.739710</td>\n",
       "      <td>NaN</td>\n",
       "    </tr>\n",
       "    <tr>\n",
       "      <th>4</th>\n",
       "      <td>-1.746474</td>\n",
       "      <td>7.507626</td>\n",
       "      <td>NaN</td>\n",
       "    </tr>\n",
       "  </tbody>\n",
       "</table>\n",
       "</div>"
      ],
      "text/plain": [
       "   Unnamed: 0       POOL  POOL.1\n",
       "0  -16.784350  -1.540635     NaN\n",
       "1   14.884740  -6.117420     NaN\n",
       "2   15.804820  -5.245312     NaN\n",
       "3    9.606956  11.739710     NaN\n",
       "4   -1.746474   7.507626     NaN"
      ]
     },
     "execution_count": 93,
     "metadata": {},
     "output_type": "execute_result"
    }
   ],
   "source": [
    "pool_sfp = pd.read_csv('FIG3CD/POOL_Sfp.csv') # Use first row as header\n",
    "pool_sfp.head()"
   ]
  },
  {
   "cell_type": "code",
   "execution_count": 94,
   "metadata": {},
   "outputs": [
    {
     "data": {
      "text/html": [
       "<div>\n",
       "<style scoped>\n",
       "    .dataframe tbody tr th:only-of-type {\n",
       "        vertical-align: middle;\n",
       "    }\n",
       "\n",
       "    .dataframe tbody tr th {\n",
       "        vertical-align: top;\n",
       "    }\n",
       "\n",
       "    .dataframe thead th {\n",
       "        text-align: right;\n",
       "    }\n",
       "</style>\n",
       "<table border=\"1\" class=\"dataframe\">\n",
       "  <thead>\n",
       "    <tr style=\"text-align: right;\">\n",
       "      <th></th>\n",
       "      <th>x</th>\n",
       "      <th>y</th>\n",
       "    </tr>\n",
       "  </thead>\n",
       "  <tbody>\n",
       "    <tr>\n",
       "      <th>0</th>\n",
       "      <td>-16.784350</td>\n",
       "      <td>-1.540635</td>\n",
       "    </tr>\n",
       "    <tr>\n",
       "      <th>1</th>\n",
       "      <td>14.884740</td>\n",
       "      <td>-6.117420</td>\n",
       "    </tr>\n",
       "    <tr>\n",
       "      <th>2</th>\n",
       "      <td>15.804820</td>\n",
       "      <td>-5.245312</td>\n",
       "    </tr>\n",
       "    <tr>\n",
       "      <th>3</th>\n",
       "      <td>9.606956</td>\n",
       "      <td>11.739710</td>\n",
       "    </tr>\n",
       "    <tr>\n",
       "      <th>4</th>\n",
       "      <td>-1.746474</td>\n",
       "      <td>7.507626</td>\n",
       "    </tr>\n",
       "  </tbody>\n",
       "</table>\n",
       "</div>"
      ],
      "text/plain": [
       "           x          y\n",
       "0 -16.784350  -1.540635\n",
       "1  14.884740  -6.117420\n",
       "2  15.804820  -5.245312\n",
       "3   9.606956  11.739710\n",
       "4  -1.746474   7.507626"
      ]
     },
     "execution_count": 94,
     "metadata": {},
     "output_type": "execute_result"
    }
   ],
   "source": [
    "pool_sfp = pool_sfp.iloc[:,0:2] # get rid of extraneous third column\n",
    "pool_sfp.columns = ['x','y']\n",
    "# the pool rows don't have any NaNs\n",
    "pool_sfp.head()"
   ]
  },
  {
   "cell_type": "markdown",
   "metadata": {},
   "source": [
    "### Get original data, Sfp"
   ]
  },
  {
   "cell_type": "code",
   "execution_count": 95,
   "metadata": {},
   "outputs": [
    {
     "data": {
      "text/html": [
       "<div>\n",
       "<style scoped>\n",
       "    .dataframe tbody tr th:only-of-type {\n",
       "        vertical-align: middle;\n",
       "    }\n",
       "\n",
       "    .dataframe tbody tr th {\n",
       "        vertical-align: top;\n",
       "    }\n",
       "\n",
       "    .dataframe thead th {\n",
       "        text-align: right;\n",
       "    }\n",
       "</style>\n",
       "<table border=\"1\" class=\"dataframe\">\n",
       "  <thead>\n",
       "    <tr style=\"text-align: right;\">\n",
       "      <th></th>\n",
       "      <th>Unnamed: 0</th>\n",
       "      <th>Data</th>\n",
       "      <th>Data.1</th>\n",
       "    </tr>\n",
       "  </thead>\n",
       "  <tbody>\n",
       "    <tr>\n",
       "      <th>0</th>\n",
       "      <td>NaN</td>\n",
       "      <td>NaN</td>\n",
       "      <td>NaN</td>\n",
       "    </tr>\n",
       "    <tr>\n",
       "      <th>1</th>\n",
       "      <td>NaN</td>\n",
       "      <td>NaN</td>\n",
       "      <td>NaN</td>\n",
       "    </tr>\n",
       "    <tr>\n",
       "      <th>2</th>\n",
       "      <td>NaN</td>\n",
       "      <td>NaN</td>\n",
       "      <td>NaN</td>\n",
       "    </tr>\n",
       "    <tr>\n",
       "      <th>3</th>\n",
       "      <td>-13.81245</td>\n",
       "      <td>-12.66130</td>\n",
       "      <td>NaN</td>\n",
       "    </tr>\n",
       "    <tr>\n",
       "      <th>4</th>\n",
       "      <td>-13.81239</td>\n",
       "      <td>-11.33182</td>\n",
       "      <td>NaN</td>\n",
       "    </tr>\n",
       "  </tbody>\n",
       "</table>\n",
       "</div>"
      ],
      "text/plain": [
       "   Unnamed: 0      Data  Data.1\n",
       "0         NaN       NaN     NaN\n",
       "1         NaN       NaN     NaN\n",
       "2         NaN       NaN     NaN\n",
       "3   -13.81245 -12.66130     NaN\n",
       "4   -13.81239 -11.33182     NaN"
      ]
     },
     "execution_count": 95,
     "metadata": {},
     "output_type": "execute_result"
    }
   ],
   "source": [
    "data_sfp = pd.read_csv('FIG3CD/Data_Sfp.csv') # Use first row as header\n",
    "data_sfp.head()"
   ]
  },
  {
   "cell_type": "code",
   "execution_count": 96,
   "metadata": {},
   "outputs": [
    {
     "data": {
      "text/html": [
       "<div>\n",
       "<style scoped>\n",
       "    .dataframe tbody tr th:only-of-type {\n",
       "        vertical-align: middle;\n",
       "    }\n",
       "\n",
       "    .dataframe tbody tr th {\n",
       "        vertical-align: top;\n",
       "    }\n",
       "\n",
       "    .dataframe thead th {\n",
       "        text-align: right;\n",
       "    }\n",
       "</style>\n",
       "<table border=\"1\" class=\"dataframe\">\n",
       "  <thead>\n",
       "    <tr style=\"text-align: right;\">\n",
       "      <th></th>\n",
       "      <th>x</th>\n",
       "      <th>y</th>\n",
       "    </tr>\n",
       "  </thead>\n",
       "  <tbody>\n",
       "    <tr>\n",
       "      <th>3</th>\n",
       "      <td>-13.81245</td>\n",
       "      <td>-12.661300</td>\n",
       "    </tr>\n",
       "    <tr>\n",
       "      <th>4</th>\n",
       "      <td>-13.81239</td>\n",
       "      <td>-11.331820</td>\n",
       "    </tr>\n",
       "    <tr>\n",
       "      <th>10</th>\n",
       "      <td>-13.78284</td>\n",
       "      <td>-12.478510</td>\n",
       "    </tr>\n",
       "    <tr>\n",
       "      <th>13</th>\n",
       "      <td>-13.47746</td>\n",
       "      <td>-11.426460</td>\n",
       "    </tr>\n",
       "    <tr>\n",
       "      <th>15</th>\n",
       "      <td>-13.36754</td>\n",
       "      <td>-7.241957</td>\n",
       "    </tr>\n",
       "  </tbody>\n",
       "</table>\n",
       "</div>"
      ],
      "text/plain": [
       "           x          y\n",
       "3  -13.81245 -12.661300\n",
       "4  -13.81239 -11.331820\n",
       "10 -13.78284 -12.478510\n",
       "13 -13.47746 -11.426460\n",
       "15 -13.36754  -7.241957"
      ]
     },
     "execution_count": 96,
     "metadata": {},
     "output_type": "execute_result"
    }
   ],
   "source": [
    "data_sfp = data_sfp.iloc[:,0:2] # get rid of extraneous third column\n",
    "data_sfp.columns = ['x','y']\n",
    "data_sfp = data_sfp[~data_sfp.isnull().all(axis=1)] # get rid of rows with all NaN\n",
    "data_sfp.head()"
   ]
  },
  {
   "cell_type": "code",
   "execution_count": 97,
   "metadata": {},
   "outputs": [
    {
     "data": {
      "text/plain": [
       "<matplotlib.legend.Legend at 0x10b8830d0>"
      ]
     },
     "execution_count": 97,
     "metadata": {},
     "output_type": "execute_result"
    },
    {
     "data": {
      "image/png": "[encoded data removed]",
      "text/plain": [
       "<Figure size 432x288 with 1 Axes>"
      ]
     },
     "metadata": {},
     "output_type": "display_data"
    }
   ],
   "source": [
    "plt.plot(predict_sfp['x'],predict_sfp['y'],'y.')\n",
    "plt.plot(mutation_sfp['x'],mutation_sfp['y'],'b.')\n",
    "plt.plot(pool_sfp['x'],pool_sfp['y'],'g.')\n",
    "plt.plot(data_sfp['x'],data_sfp['y'],'.',color='0.75')\n",
    "plt.legend(['predict','mutate','pool','data'])"
   ]
  },
  {
   "cell_type": "markdown",
   "metadata": {},
   "source": [
    "# Analyze distance"
   ]
  },
  {
   "cell_type": "code",
   "execution_count": 98,
   "metadata": {},
   "outputs": [],
   "source": [
    "def closest_data(x,y,data):\n",
    "    # pass either data_sfp or data_acps for data\n",
    "    # looks for the closest point in data using the euclidean distance\n",
    "    dist_sqr = (data['x']-x)**2 + (data['y']-y)**2\n",
    "    min_dist = np.sqrt(dist_sqr.min())\n",
    "    idx = dist_sqr.idxmin()\n",
    "    return min_dist"
   ]
  },
  {
   "cell_type": "code",
   "execution_count": 99,
   "metadata": {},
   "outputs": [],
   "source": [
    "def add_distances(method_df,data_df):\n",
    "    method_df['closest_data_dist'] = pd.Series()\n",
    "    for i,row in method_df.iterrows():\n",
    "        method_df['closest_data_dist'][i]=closest_data(row['x'],row['y'],data_df)"
   ]
  },
  {
   "cell_type": "code",
   "execution_count": 100,
   "metadata": {},
   "outputs": [],
   "source": [
    "add_distances(pool_sfp,data_sfp)\n",
    "add_distances(mutation_sfp,data_sfp)"
   ]
  },
  {
   "cell_type": "code",
   "execution_count": 101,
   "metadata": {},
   "outputs": [
    {
     "data": {
      "text/html": [
       "<div>\n",
       "<style scoped>\n",
       "    .dataframe tbody tr th:only-of-type {\n",
       "        vertical-align: middle;\n",
       "    }\n",
       "\n",
       "    .dataframe tbody tr th {\n",
       "        vertical-align: top;\n",
       "    }\n",
       "\n",
       "    .dataframe thead th {\n",
       "        text-align: right;\n",
       "    }\n",
       "</style>\n",
       "<table border=\"1\" class=\"dataframe\">\n",
       "  <thead>\n",
       "    <tr style=\"text-align: right;\">\n",
       "      <th></th>\n",
       "      <th>x</th>\n",
       "      <th>y</th>\n",
       "      <th>closest_data_dist</th>\n",
       "    </tr>\n",
       "  </thead>\n",
       "  <tbody>\n",
       "    <tr>\n",
       "      <th>0</th>\n",
       "      <td>-16.784350</td>\n",
       "      <td>-1.540635</td>\n",
       "      <td>6.573732</td>\n",
       "    </tr>\n",
       "    <tr>\n",
       "      <th>1</th>\n",
       "      <td>14.884740</td>\n",
       "      <td>-6.117420</td>\n",
       "      <td>1.131252</td>\n",
       "    </tr>\n",
       "    <tr>\n",
       "      <th>2</th>\n",
       "      <td>15.804820</td>\n",
       "      <td>-5.245312</td>\n",
       "      <td>1.933158</td>\n",
       "    </tr>\n",
       "    <tr>\n",
       "      <th>3</th>\n",
       "      <td>9.606956</td>\n",
       "      <td>11.739710</td>\n",
       "      <td>0.324621</td>\n",
       "    </tr>\n",
       "    <tr>\n",
       "      <th>4</th>\n",
       "      <td>-1.746474</td>\n",
       "      <td>7.507626</td>\n",
       "      <td>1.214992</td>\n",
       "    </tr>\n",
       "  </tbody>\n",
       "</table>\n",
       "</div>"
      ],
      "text/plain": [
       "           x          y  closest_data_dist\n",
       "0 -16.784350  -1.540635           6.573732\n",
       "1  14.884740  -6.117420           1.131252\n",
       "2  15.804820  -5.245312           1.933158\n",
       "3   9.606956  11.739710           0.324621\n",
       "4  -1.746474   7.507626           1.214992"
      ]
     },
     "execution_count": 101,
     "metadata": {},
     "output_type": "execute_result"
    }
   ],
   "source": [
    "pool_sfp.head()"
   ]
  },
  {
   "cell_type": "code",
   "execution_count": 102,
   "metadata": {},
   "outputs": [
    {
     "data": {
      "text/html": [
       "<div>\n",
       "<style scoped>\n",
       "    .dataframe tbody tr th:only-of-type {\n",
       "        vertical-align: middle;\n",
       "    }\n",
       "\n",
       "    .dataframe tbody tr th {\n",
       "        vertical-align: top;\n",
       "    }\n",
       "\n",
       "    .dataframe thead th {\n",
       "        text-align: right;\n",
       "    }\n",
       "</style>\n",
       "<table border=\"1\" class=\"dataframe\">\n",
       "  <thead>\n",
       "    <tr style=\"text-align: right;\">\n",
       "      <th></th>\n",
       "      <th>x</th>\n",
       "      <th>y</th>\n",
       "      <th>closest_data_dist</th>\n",
       "    </tr>\n",
       "  </thead>\n",
       "  <tbody>\n",
       "    <tr>\n",
       "      <th>1</th>\n",
       "      <td>-13.96208</td>\n",
       "      <td>-12.682800</td>\n",
       "      <td>0.151167</td>\n",
       "    </tr>\n",
       "    <tr>\n",
       "      <th>5</th>\n",
       "      <td>-13.49027</td>\n",
       "      <td>-14.675290</td>\n",
       "      <td>2.039597</td>\n",
       "    </tr>\n",
       "    <tr>\n",
       "      <th>11</th>\n",
       "      <td>-12.60430</td>\n",
       "      <td>-15.903180</td>\n",
       "      <td>1.909267</td>\n",
       "    </tr>\n",
       "    <tr>\n",
       "      <th>12</th>\n",
       "      <td>-12.54038</td>\n",
       "      <td>-13.889620</td>\n",
       "      <td>1.768313</td>\n",
       "    </tr>\n",
       "    <tr>\n",
       "      <th>13</th>\n",
       "      <td>-12.50728</td>\n",
       "      <td>8.268995</td>\n",
       "      <td>1.159326</td>\n",
       "    </tr>\n",
       "  </tbody>\n",
       "</table>\n",
       "</div>"
      ],
      "text/plain": [
       "           x          y  closest_data_dist\n",
       "1  -13.96208 -12.682800           0.151167\n",
       "5  -13.49027 -14.675290           2.039597\n",
       "11 -12.60430 -15.903180           1.909267\n",
       "12 -12.54038 -13.889620           1.768313\n",
       "13 -12.50728   8.268995           1.159326"
      ]
     },
     "execution_count": 102,
     "metadata": {},
     "output_type": "execute_result"
    }
   ],
   "source": [
    "mutation_sfp.head()"
   ]
  },
  {
   "cell_type": "code",
   "execution_count": 103,
   "metadata": {},
   "outputs": [
    {
     "data": {
      "text/plain": [
       "count    100.000000\n",
       "mean       1.262873\n",
       "std        0.915517\n",
       "min        0.139898\n",
       "25%        0.665155\n",
       "50%        1.098686\n",
       "75%        1.625326\n",
       "max        6.573732\n",
       "Name: closest_data_dist, dtype: float64"
      ]
     },
     "execution_count": 103,
     "metadata": {},
     "output_type": "execute_result"
    }
   ],
   "source": [
    "pool_sfp['closest_data_dist'].describe()"
   ]
  },
  {
   "cell_type": "code",
   "execution_count": 104,
   "metadata": {},
   "outputs": [
    {
     "data": {
      "text/plain": [
       "count    55.000000\n",
       "mean      0.975974\n",
       "std       0.588810\n",
       "min       0.085083\n",
       "25%       0.525773\n",
       "50%       0.867929\n",
       "75%       1.341982\n",
       "max       2.397819\n",
       "Name: closest_data_dist, dtype: float64"
      ]
     },
     "execution_count": 104,
     "metadata": {},
     "output_type": "execute_result"
    }
   ],
   "source": [
    "mutation_sfp['closest_data_dist'].describe()"
   ]
  },
  {
   "cell_type": "markdown",
   "metadata": {},
   "source": [
    "### Get data for AcpS, mutation"
   ]
  },
  {
   "cell_type": "code",
   "execution_count": 105,
   "metadata": {},
   "outputs": [
    {
     "data": {
      "text/html": [
       "<div>\n",
       "<style scoped>\n",
       "    .dataframe tbody tr th:only-of-type {\n",
       "        vertical-align: middle;\n",
       "    }\n",
       "\n",
       "    .dataframe tbody tr th {\n",
       "        vertical-align: top;\n",
       "    }\n",
       "\n",
       "    .dataframe thead th {\n",
       "        text-align: right;\n",
       "    }\n",
       "</style>\n",
       "<table border=\"1\" class=\"dataframe\">\n",
       "  <thead>\n",
       "    <tr style=\"text-align: right;\">\n",
       "      <th></th>\n",
       "      <th>0</th>\n",
       "      <th>1</th>\n",
       "      <th>2</th>\n",
       "    </tr>\n",
       "  </thead>\n",
       "  <tbody>\n",
       "    <tr>\n",
       "      <th>0</th>\n",
       "      <td>-11.87362</td>\n",
       "      <td>6.317032</td>\n",
       "      <td>NaN</td>\n",
       "    </tr>\n",
       "    <tr>\n",
       "      <th>1</th>\n",
       "      <td>NaN</td>\n",
       "      <td>NaN</td>\n",
       "      <td>NaN</td>\n",
       "    </tr>\n",
       "    <tr>\n",
       "      <th>2</th>\n",
       "      <td>NaN</td>\n",
       "      <td>NaN</td>\n",
       "      <td>NaN</td>\n",
       "    </tr>\n",
       "    <tr>\n",
       "      <th>3</th>\n",
       "      <td>NaN</td>\n",
       "      <td>NaN</td>\n",
       "      <td>NaN</td>\n",
       "    </tr>\n",
       "    <tr>\n",
       "      <th>4</th>\n",
       "      <td>-11.37078</td>\n",
       "      <td>5.307384</td>\n",
       "      <td>NaN</td>\n",
       "    </tr>\n",
       "  </tbody>\n",
       "</table>\n",
       "</div>"
      ],
      "text/plain": [
       "          0         1   2\n",
       "0 -11.87362  6.317032 NaN\n",
       "1       NaN       NaN NaN\n",
       "2       NaN       NaN NaN\n",
       "3       NaN       NaN NaN\n",
       "4 -11.37078  5.307384 NaN"
      ]
     },
     "execution_count": 105,
     "metadata": {},
     "output_type": "execute_result"
    }
   ],
   "source": [
    "mutation_acps = pd.read_csv('FIG3CD/Mutation_AcpS.csv',header=None) # Include the first row as data\n",
    "mutation_acps.head()"
   ]
  },
  {
   "cell_type": "code",
   "execution_count": 106,
   "metadata": {},
   "outputs": [
    {
     "data": {
      "text/html": [
       "<div>\n",
       "<style scoped>\n",
       "    .dataframe tbody tr th:only-of-type {\n",
       "        vertical-align: middle;\n",
       "    }\n",
       "\n",
       "    .dataframe tbody tr th {\n",
       "        vertical-align: top;\n",
       "    }\n",
       "\n",
       "    .dataframe thead th {\n",
       "        text-align: right;\n",
       "    }\n",
       "</style>\n",
       "<table border=\"1\" class=\"dataframe\">\n",
       "  <thead>\n",
       "    <tr style=\"text-align: right;\">\n",
       "      <th></th>\n",
       "      <th>x</th>\n",
       "      <th>y</th>\n",
       "    </tr>\n",
       "  </thead>\n",
       "  <tbody>\n",
       "    <tr>\n",
       "      <th>0</th>\n",
       "      <td>-11.87362</td>\n",
       "      <td>6.317032</td>\n",
       "    </tr>\n",
       "    <tr>\n",
       "      <th>4</th>\n",
       "      <td>-11.37078</td>\n",
       "      <td>5.307384</td>\n",
       "    </tr>\n",
       "    <tr>\n",
       "      <th>5</th>\n",
       "      <td>-11.15129</td>\n",
       "      <td>-14.711560</td>\n",
       "    </tr>\n",
       "    <tr>\n",
       "      <th>6</th>\n",
       "      <td>-11.11703</td>\n",
       "      <td>-6.761276</td>\n",
       "    </tr>\n",
       "    <tr>\n",
       "      <th>9</th>\n",
       "      <td>-10.70168</td>\n",
       "      <td>-14.536530</td>\n",
       "    </tr>\n",
       "  </tbody>\n",
       "</table>\n",
       "</div>"
      ],
      "text/plain": [
       "          x          y\n",
       "0 -11.87362   6.317032\n",
       "4 -11.37078   5.307384\n",
       "5 -11.15129 -14.711560\n",
       "6 -11.11703  -6.761276\n",
       "9 -10.70168 -14.536530"
      ]
     },
     "execution_count": 106,
     "metadata": {},
     "output_type": "execute_result"
    }
   ],
   "source": [
    "mutation_acps = mutation_acps.iloc[:,0:2] # get rid of extraneous third column\n",
    "mutation_acps.columns = ['x','y']\n",
    "mutation_acps = mutation_acps[~mutation_acps.isnull().all(axis=1)] # get rid of rows with all NaN\n",
    "mutation_acps.head()"
   ]
  },
  {
   "cell_type": "markdown",
   "metadata": {},
   "source": [
    "### Get data for AcpS, pool"
   ]
  },
  {
   "cell_type": "code",
   "execution_count": 107,
   "metadata": {},
   "outputs": [
    {
     "data": {
      "text/html": [
       "<div>\n",
       "<style scoped>\n",
       "    .dataframe tbody tr th:only-of-type {\n",
       "        vertical-align: middle;\n",
       "    }\n",
       "\n",
       "    .dataframe tbody tr th {\n",
       "        vertical-align: top;\n",
       "    }\n",
       "\n",
       "    .dataframe thead th {\n",
       "        text-align: right;\n",
       "    }\n",
       "</style>\n",
       "<table border=\"1\" class=\"dataframe\">\n",
       "  <thead>\n",
       "    <tr style=\"text-align: right;\">\n",
       "      <th></th>\n",
       "      <th>Unnamed: 0</th>\n",
       "      <th>POOL</th>\n",
       "      <th>POOL.1</th>\n",
       "    </tr>\n",
       "  </thead>\n",
       "  <tbody>\n",
       "    <tr>\n",
       "      <th>0</th>\n",
       "      <td>-0.978467</td>\n",
       "      <td>-22.449430</td>\n",
       "      <td>NaN</td>\n",
       "    </tr>\n",
       "    <tr>\n",
       "      <th>1</th>\n",
       "      <td>-3.296212</td>\n",
       "      <td>16.037320</td>\n",
       "      <td>NaN</td>\n",
       "    </tr>\n",
       "    <tr>\n",
       "      <th>2</th>\n",
       "      <td>-6.221781</td>\n",
       "      <td>0.424133</td>\n",
       "      <td>NaN</td>\n",
       "    </tr>\n",
       "    <tr>\n",
       "      <th>3</th>\n",
       "      <td>7.297190</td>\n",
       "      <td>1.978591</td>\n",
       "      <td>NaN</td>\n",
       "    </tr>\n",
       "    <tr>\n",
       "      <th>4</th>\n",
       "      <td>9.296268</td>\n",
       "      <td>4.432103</td>\n",
       "      <td>NaN</td>\n",
       "    </tr>\n",
       "  </tbody>\n",
       "</table>\n",
       "</div>"
      ],
      "text/plain": [
       "   Unnamed: 0       POOL  POOL.1\n",
       "0   -0.978467 -22.449430     NaN\n",
       "1   -3.296212  16.037320     NaN\n",
       "2   -6.221781   0.424133     NaN\n",
       "3    7.297190   1.978591     NaN\n",
       "4    9.296268   4.432103     NaN"
      ]
     },
     "execution_count": 107,
     "metadata": {},
     "output_type": "execute_result"
    }
   ],
   "source": [
    "pool_acps = pd.read_csv('FIG3CD/POOL_AcpS.csv')\n",
    "pool_acps.head()"
   ]
  },
  {
   "cell_type": "code",
   "execution_count": 108,
   "metadata": {},
   "outputs": [
    {
     "data": {
      "text/html": [
       "<div>\n",
       "<style scoped>\n",
       "    .dataframe tbody tr th:only-of-type {\n",
       "        vertical-align: middle;\n",
       "    }\n",
       "\n",
       "    .dataframe tbody tr th {\n",
       "        vertical-align: top;\n",
       "    }\n",
       "\n",
       "    .dataframe thead th {\n",
       "        text-align: right;\n",
       "    }\n",
       "</style>\n",
       "<table border=\"1\" class=\"dataframe\">\n",
       "  <thead>\n",
       "    <tr style=\"text-align: right;\">\n",
       "      <th></th>\n",
       "      <th>x</th>\n",
       "      <th>y</th>\n",
       "    </tr>\n",
       "  </thead>\n",
       "  <tbody>\n",
       "    <tr>\n",
       "      <th>0</th>\n",
       "      <td>-0.978467</td>\n",
       "      <td>-22.449430</td>\n",
       "    </tr>\n",
       "    <tr>\n",
       "      <th>1</th>\n",
       "      <td>-3.296212</td>\n",
       "      <td>16.037320</td>\n",
       "    </tr>\n",
       "    <tr>\n",
       "      <th>2</th>\n",
       "      <td>-6.221781</td>\n",
       "      <td>0.424133</td>\n",
       "    </tr>\n",
       "    <tr>\n",
       "      <th>3</th>\n",
       "      <td>7.297190</td>\n",
       "      <td>1.978591</td>\n",
       "    </tr>\n",
       "    <tr>\n",
       "      <th>4</th>\n",
       "      <td>9.296268</td>\n",
       "      <td>4.432103</td>\n",
       "    </tr>\n",
       "  </tbody>\n",
       "</table>\n",
       "</div>"
      ],
      "text/plain": [
       "          x          y\n",
       "0 -0.978467 -22.449430\n",
       "1 -3.296212  16.037320\n",
       "2 -6.221781   0.424133\n",
       "3  7.297190   1.978591\n",
       "4  9.296268   4.432103"
      ]
     },
     "execution_count": 108,
     "metadata": {},
     "output_type": "execute_result"
    }
   ],
   "source": [
    "pool_acps = pool_acps.iloc[:,0:2] # get rid of extraneous third column\n",
    "pool_acps.columns = ['x','y']\n",
    "# no rows with NaN\n",
    "pool_acps.head()"
   ]
  },
  {
   "cell_type": "markdown",
   "metadata": {},
   "source": [
    "\n",
    "### Get data for AcpS, original data"
   ]
  },
  {
   "cell_type": "code",
   "execution_count": 109,
   "metadata": {},
   "outputs": [
    {
     "data": {
      "text/html": [
       "<div>\n",
       "<style scoped>\n",
       "    .dataframe tbody tr th:only-of-type {\n",
       "        vertical-align: middle;\n",
       "    }\n",
       "\n",
       "    .dataframe tbody tr th {\n",
       "        vertical-align: top;\n",
       "    }\n",
       "\n",
       "    .dataframe thead th {\n",
       "        text-align: right;\n",
       "    }\n",
       "</style>\n",
       "<table border=\"1\" class=\"dataframe\">\n",
       "  <thead>\n",
       "    <tr style=\"text-align: right;\">\n",
       "      <th></th>\n",
       "      <th>Unnamed: 0</th>\n",
       "      <th>Data</th>\n",
       "      <th>Data.1</th>\n",
       "    </tr>\n",
       "  </thead>\n",
       "  <tbody>\n",
       "    <tr>\n",
       "      <th>0</th>\n",
       "      <td>-13.84080</td>\n",
       "      <td>-11.238160</td>\n",
       "      <td>NaN</td>\n",
       "    </tr>\n",
       "    <tr>\n",
       "      <th>1</th>\n",
       "      <td>NaN</td>\n",
       "      <td>NaN</td>\n",
       "      <td>NaN</td>\n",
       "    </tr>\n",
       "    <tr>\n",
       "      <th>2</th>\n",
       "      <td>-13.46226</td>\n",
       "      <td>13.561240</td>\n",
       "      <td>NaN</td>\n",
       "    </tr>\n",
       "    <tr>\n",
       "      <th>3</th>\n",
       "      <td>-11.87508</td>\n",
       "      <td>1.987953</td>\n",
       "      <td>NaN</td>\n",
       "    </tr>\n",
       "    <tr>\n",
       "      <th>4</th>\n",
       "      <td>-11.69286</td>\n",
       "      <td>6.339345</td>\n",
       "      <td>NaN</td>\n",
       "    </tr>\n",
       "  </tbody>\n",
       "</table>\n",
       "</div>"
      ],
      "text/plain": [
       "   Unnamed: 0       Data  Data.1\n",
       "0   -13.84080 -11.238160     NaN\n",
       "1         NaN        NaN     NaN\n",
       "2   -13.46226  13.561240     NaN\n",
       "3   -11.87508   1.987953     NaN\n",
       "4   -11.69286   6.339345     NaN"
      ]
     },
     "execution_count": 109,
     "metadata": {},
     "output_type": "execute_result"
    }
   ],
   "source": [
    "data_acps = pd.read_csv('FIG3CD/Data_AcpS.csv')\n",
    "data_acps.head()"
   ]
  },
  {
   "cell_type": "code",
   "execution_count": 110,
   "metadata": {},
   "outputs": [
    {
     "data": {
      "text/html": [
       "<div>\n",
       "<style scoped>\n",
       "    .dataframe tbody tr th:only-of-type {\n",
       "        vertical-align: middle;\n",
       "    }\n",
       "\n",
       "    .dataframe tbody tr th {\n",
       "        vertical-align: top;\n",
       "    }\n",
       "\n",
       "    .dataframe thead th {\n",
       "        text-align: right;\n",
       "    }\n",
       "</style>\n",
       "<table border=\"1\" class=\"dataframe\">\n",
       "  <thead>\n",
       "    <tr style=\"text-align: right;\">\n",
       "      <th></th>\n",
       "      <th>x</th>\n",
       "      <th>y</th>\n",
       "    </tr>\n",
       "  </thead>\n",
       "  <tbody>\n",
       "    <tr>\n",
       "      <th>0</th>\n",
       "      <td>-13.84080</td>\n",
       "      <td>-11.238160</td>\n",
       "    </tr>\n",
       "    <tr>\n",
       "      <th>2</th>\n",
       "      <td>-13.46226</td>\n",
       "      <td>13.561240</td>\n",
       "    </tr>\n",
       "    <tr>\n",
       "      <th>3</th>\n",
       "      <td>-11.87508</td>\n",
       "      <td>1.987953</td>\n",
       "    </tr>\n",
       "    <tr>\n",
       "      <th>4</th>\n",
       "      <td>-11.69286</td>\n",
       "      <td>6.339345</td>\n",
       "    </tr>\n",
       "    <tr>\n",
       "      <th>5</th>\n",
       "      <td>-11.32310</td>\n",
       "      <td>-16.417800</td>\n",
       "    </tr>\n",
       "  </tbody>\n",
       "</table>\n",
       "</div>"
      ],
      "text/plain": [
       "          x          y\n",
       "0 -13.84080 -11.238160\n",
       "2 -13.46226  13.561240\n",
       "3 -11.87508   1.987953\n",
       "4 -11.69286   6.339345\n",
       "5 -11.32310 -16.417800"
      ]
     },
     "execution_count": 110,
     "metadata": {},
     "output_type": "execute_result"
    }
   ],
   "source": [
    "data_acps = data_acps.iloc[:,0:2] # get rid of extraneous third column\n",
    "data_acps.columns = ['x','y']\n",
    "data_acps = data_acps[~data_acps.isnull().all(axis=1)] # get rid of rows with all NaN\n",
    "data_acps.head()"
   ]
  },
  {
   "cell_type": "markdown",
   "metadata": {},
   "source": [
    "\n",
    "### Get data for AcpS, predict-then-optimize"
   ]
  },
  {
   "cell_type": "code",
   "execution_count": 111,
   "metadata": {},
   "outputs": [
    {
     "data": {
      "text/html": [
       "<div>\n",
       "<style scoped>\n",
       "    .dataframe tbody tr th:only-of-type {\n",
       "        vertical-align: middle;\n",
       "    }\n",
       "\n",
       "    .dataframe tbody tr th {\n",
       "        vertical-align: top;\n",
       "    }\n",
       "\n",
       "    .dataframe thead th {\n",
       "        text-align: right;\n",
       "    }\n",
       "</style>\n",
       "<table border=\"1\" class=\"dataframe\">\n",
       "  <thead>\n",
       "    <tr style=\"text-align: right;\">\n",
       "      <th></th>\n",
       "      <th>Unnamed: 0</th>\n",
       "      <th>Predict-then-Optimize</th>\n",
       "      <th>Predict-then-Optimize.1</th>\n",
       "    </tr>\n",
       "  </thead>\n",
       "  <tbody>\n",
       "    <tr>\n",
       "      <th>0</th>\n",
       "      <td>-2.037223</td>\n",
       "      <td>-20.12662</td>\n",
       "      <td>NaN</td>\n",
       "    </tr>\n",
       "    <tr>\n",
       "      <th>1</th>\n",
       "      <td>NaN</td>\n",
       "      <td>NaN</td>\n",
       "      <td>NaN</td>\n",
       "    </tr>\n",
       "    <tr>\n",
       "      <th>2</th>\n",
       "      <td>-1.963888</td>\n",
       "      <td>-20.22730</td>\n",
       "      <td>NaN</td>\n",
       "    </tr>\n",
       "    <tr>\n",
       "      <th>3</th>\n",
       "      <td>NaN</td>\n",
       "      <td>NaN</td>\n",
       "      <td>NaN</td>\n",
       "    </tr>\n",
       "    <tr>\n",
       "      <th>4</th>\n",
       "      <td>-1.948747</td>\n",
       "      <td>-20.01402</td>\n",
       "      <td>NaN</td>\n",
       "    </tr>\n",
       "  </tbody>\n",
       "</table>\n",
       "</div>"
      ],
      "text/plain": [
       "   Unnamed: 0  Predict-then-Optimize  Predict-then-Optimize.1\n",
       "0   -2.037223              -20.12662                      NaN\n",
       "1         NaN                    NaN                      NaN\n",
       "2   -1.963888              -20.22730                      NaN\n",
       "3         NaN                    NaN                      NaN\n",
       "4   -1.948747              -20.01402                      NaN"
      ]
     },
     "execution_count": 111,
     "metadata": {},
     "output_type": "execute_result"
    }
   ],
   "source": [
    "predict_acps = pd.read_csv('FIG3CD/Predict-then-Optimize_AcpS.csv')\n",
    "predict_acps.head()"
   ]
  },
  {
   "cell_type": "code",
   "execution_count": 112,
   "metadata": {},
   "outputs": [
    {
     "data": {
      "text/html": [
       "<div>\n",
       "<style scoped>\n",
       "    .dataframe tbody tr th:only-of-type {\n",
       "        vertical-align: middle;\n",
       "    }\n",
       "\n",
       "    .dataframe tbody tr th {\n",
       "        vertical-align: top;\n",
       "    }\n",
       "\n",
       "    .dataframe thead th {\n",
       "        text-align: right;\n",
       "    }\n",
       "</style>\n",
       "<table border=\"1\" class=\"dataframe\">\n",
       "  <thead>\n",
       "    <tr style=\"text-align: right;\">\n",
       "      <th></th>\n",
       "      <th>x</th>\n",
       "      <th>y</th>\n",
       "    </tr>\n",
       "  </thead>\n",
       "  <tbody>\n",
       "    <tr>\n",
       "      <th>0</th>\n",
       "      <td>-2.037223</td>\n",
       "      <td>-20.12662</td>\n",
       "    </tr>\n",
       "    <tr>\n",
       "      <th>2</th>\n",
       "      <td>-1.963888</td>\n",
       "      <td>-20.22730</td>\n",
       "    </tr>\n",
       "    <tr>\n",
       "      <th>4</th>\n",
       "      <td>-1.948747</td>\n",
       "      <td>-20.01402</td>\n",
       "    </tr>\n",
       "    <tr>\n",
       "      <th>6</th>\n",
       "      <td>-1.933447</td>\n",
       "      <td>-21.34876</td>\n",
       "    </tr>\n",
       "    <tr>\n",
       "      <th>20</th>\n",
       "      <td>-1.323321</td>\n",
       "      <td>-19.66986</td>\n",
       "    </tr>\n",
       "  </tbody>\n",
       "</table>\n",
       "</div>"
      ],
      "text/plain": [
       "           x         y\n",
       "0  -2.037223 -20.12662\n",
       "2  -1.963888 -20.22730\n",
       "4  -1.948747 -20.01402\n",
       "6  -1.933447 -21.34876\n",
       "20 -1.323321 -19.66986"
      ]
     },
     "execution_count": 112,
     "metadata": {},
     "output_type": "execute_result"
    }
   ],
   "source": [
    "predict_acps = predict_acps.iloc[:,0:2] # get rid of extraneous third column\n",
    "predict_acps.columns = ['x','y']\n",
    "predict_acps = predict_acps[~predict_acps.isnull().all(axis=1)] # get rid of rows with all NaN\n",
    "predict_acps.head()"
   ]
  },
  {
   "cell_type": "markdown",
   "metadata": {},
   "source": [
    "# Plot distances"
   ]
  },
  {
   "cell_type": "code",
   "execution_count": 113,
   "metadata": {},
   "outputs": [],
   "source": [
    "add_distances(pool_acps,data_acps)\n",
    "add_distances(mutation_acps,data_acps)"
   ]
  },
  {
   "cell_type": "code",
   "execution_count": 114,
   "metadata": {},
   "outputs": [
    {
     "data": {
      "text/html": [
       "<div>\n",
       "<style scoped>\n",
       "    .dataframe tbody tr th:only-of-type {\n",
       "        vertical-align: middle;\n",
       "    }\n",
       "\n",
       "    .dataframe tbody tr th {\n",
       "        vertical-align: top;\n",
       "    }\n",
       "\n",
       "    .dataframe thead th {\n",
       "        text-align: right;\n",
       "    }\n",
       "</style>\n",
       "<table border=\"1\" class=\"dataframe\">\n",
       "  <thead>\n",
       "    <tr style=\"text-align: right;\">\n",
       "      <th></th>\n",
       "      <th>x</th>\n",
       "      <th>y</th>\n",
       "      <th>closest_data_dist</th>\n",
       "    </tr>\n",
       "  </thead>\n",
       "  <tbody>\n",
       "    <tr>\n",
       "      <th>0</th>\n",
       "      <td>-0.978467</td>\n",
       "      <td>-22.449430</td>\n",
       "      <td>8.359893</td>\n",
       "    </tr>\n",
       "    <tr>\n",
       "      <th>1</th>\n",
       "      <td>-3.296212</td>\n",
       "      <td>16.037320</td>\n",
       "      <td>2.249968</td>\n",
       "    </tr>\n",
       "    <tr>\n",
       "      <th>2</th>\n",
       "      <td>-6.221781</td>\n",
       "      <td>0.424133</td>\n",
       "      <td>1.399524</td>\n",
       "    </tr>\n",
       "    <tr>\n",
       "      <th>3</th>\n",
       "      <td>7.297190</td>\n",
       "      <td>1.978591</td>\n",
       "      <td>1.172717</td>\n",
       "    </tr>\n",
       "    <tr>\n",
       "      <th>4</th>\n",
       "      <td>9.296268</td>\n",
       "      <td>4.432103</td>\n",
       "      <td>1.242169</td>\n",
       "    </tr>\n",
       "  </tbody>\n",
       "</table>\n",
       "</div>"
      ],
      "text/plain": [
       "          x          y  closest_data_dist\n",
       "0 -0.978467 -22.449430           8.359893\n",
       "1 -3.296212  16.037320           2.249968\n",
       "2 -6.221781   0.424133           1.399524\n",
       "3  7.297190   1.978591           1.172717\n",
       "4  9.296268   4.432103           1.242169"
      ]
     },
     "execution_count": 114,
     "metadata": {},
     "output_type": "execute_result"
    }
   ],
   "source": [
    "pool_acps.head()"
   ]
  },
  {
   "cell_type": "code",
   "execution_count": 115,
   "metadata": {},
   "outputs": [
    {
     "data": {
      "text/html": [
       "<div>\n",
       "<style scoped>\n",
       "    .dataframe tbody tr th:only-of-type {\n",
       "        vertical-align: middle;\n",
       "    }\n",
       "\n",
       "    .dataframe tbody tr th {\n",
       "        vertical-align: top;\n",
       "    }\n",
       "\n",
       "    .dataframe thead th {\n",
       "        text-align: right;\n",
       "    }\n",
       "</style>\n",
       "<table border=\"1\" class=\"dataframe\">\n",
       "  <thead>\n",
       "    <tr style=\"text-align: right;\">\n",
       "      <th></th>\n",
       "      <th>x</th>\n",
       "      <th>y</th>\n",
       "      <th>closest_data_dist</th>\n",
       "    </tr>\n",
       "  </thead>\n",
       "  <tbody>\n",
       "    <tr>\n",
       "      <th>0</th>\n",
       "      <td>-11.87362</td>\n",
       "      <td>6.317032</td>\n",
       "      <td>0.182132</td>\n",
       "    </tr>\n",
       "    <tr>\n",
       "      <th>4</th>\n",
       "      <td>-11.37078</td>\n",
       "      <td>5.307384</td>\n",
       "      <td>1.081055</td>\n",
       "    </tr>\n",
       "    <tr>\n",
       "      <th>5</th>\n",
       "      <td>-11.15129</td>\n",
       "      <td>-14.711560</td>\n",
       "      <td>0.870275</td>\n",
       "    </tr>\n",
       "    <tr>\n",
       "      <th>6</th>\n",
       "      <td>-11.11703</td>\n",
       "      <td>-6.761276</td>\n",
       "      <td>0.085973</td>\n",
       "    </tr>\n",
       "    <tr>\n",
       "      <th>9</th>\n",
       "      <td>-10.70168</td>\n",
       "      <td>-14.536530</td>\n",
       "      <td>1.015213</td>\n",
       "    </tr>\n",
       "  </tbody>\n",
       "</table>\n",
       "</div>"
      ],
      "text/plain": [
       "          x          y  closest_data_dist\n",
       "0 -11.87362   6.317032           0.182132\n",
       "4 -11.37078   5.307384           1.081055\n",
       "5 -11.15129 -14.711560           0.870275\n",
       "6 -11.11703  -6.761276           0.085973\n",
       "9 -10.70168 -14.536530           1.015213"
      ]
     },
     "execution_count": 115,
     "metadata": {},
     "output_type": "execute_result"
    }
   ],
   "source": [
    "mutation_acps.head()"
   ]
  },
  {
   "cell_type": "code",
   "execution_count": 116,
   "metadata": {},
   "outputs": [
    {
     "data": {
      "text/plain": [
       "count    100.000000\n",
       "mean       1.426394\n",
       "std        1.118112\n",
       "min        0.051303\n",
       "25%        0.751702\n",
       "50%        1.202234\n",
       "75%        1.857230\n",
       "max        8.359893\n",
       "Name: closest_data_dist, dtype: float64"
      ]
     },
     "execution_count": 116,
     "metadata": {},
     "output_type": "execute_result"
    }
   ],
   "source": [
    "pool_acps['closest_data_dist'].describe()"
   ]
  },
  {
   "cell_type": "code",
   "execution_count": 117,
   "metadata": {},
   "outputs": [
    {
     "data": {
      "text/plain": [
       "count    48.000000\n",
       "mean      0.735236\n",
       "std       0.500424\n",
       "min       0.023165\n",
       "25%       0.313512\n",
       "50%       0.756718\n",
       "75%       1.096556\n",
       "max       2.192895\n",
       "Name: closest_data_dist, dtype: float64"
      ]
     },
     "execution_count": 117,
     "metadata": {},
     "output_type": "execute_result"
    }
   ],
   "source": [
    "mutation_acps['closest_data_dist'].describe()"
   ]
  },
  {
   "cell_type": "code",
   "execution_count": 118,
   "metadata": {},
   "outputs": [],
   "source": [
    "# Pull data for benchmark comparisons"
   ]
  },
  {
   "cell_type": "code",
   "execution_count": 119,
   "metadata": {},
   "outputs": [],
   "source": [
    "# This data comes from jialei, at https://drive.google.com/drive/folders/0B-MxS9sxk3fjQTZqX0hqX0hEU0U\n",
    "# The data is a number between 0 and 1, where 1 indicates a 100% success rate\n",
    "benchmark_sfp = pd.read_csv('FIG3CD/benchmark_sfp_orthogonal.csv')\n",
    "benchmark_acps = pd.read_csv('FIG3CD/benchmark_AcpS_orthogonal.csv')"
   ]
  },
  {
   "cell_type": "code",
   "execution_count": 120,
   "metadata": {},
   "outputs": [
    {
     "data": {
      "text/html": [
       "<div>\n",
       "<style scoped>\n",
       "    .dataframe tbody tr th:only-of-type {\n",
       "        vertical-align: middle;\n",
       "    }\n",
       "\n",
       "    .dataframe tbody tr th {\n",
       "        vertical-align: top;\n",
       "    }\n",
       "\n",
       "    .dataframe thead th {\n",
       "        text-align: right;\n",
       "    }\n",
       "</style>\n",
       "<table border=\"1\" class=\"dataframe\">\n",
       "  <thead>\n",
       "    <tr style=\"text-align: right;\">\n",
       "      <th></th>\n",
       "      <th>pool</th>\n",
       "      <th>mutate</th>\n",
       "      <th>predict_optimize</th>\n",
       "    </tr>\n",
       "  </thead>\n",
       "  <tbody>\n",
       "    <tr>\n",
       "      <th>0</th>\n",
       "      <td>0.001490</td>\n",
       "      <td>0.000006</td>\n",
       "      <td>0.003415</td>\n",
       "    </tr>\n",
       "    <tr>\n",
       "      <th>1</th>\n",
       "      <td>0.014057</td>\n",
       "      <td>0.000008</td>\n",
       "      <td>0.006818</td>\n",
       "    </tr>\n",
       "    <tr>\n",
       "      <th>2</th>\n",
       "      <td>0.028596</td>\n",
       "      <td>0.000173</td>\n",
       "      <td>0.010210</td>\n",
       "    </tr>\n",
       "    <tr>\n",
       "      <th>3</th>\n",
       "      <td>0.030267</td>\n",
       "      <td>0.000268</td>\n",
       "      <td>0.013590</td>\n",
       "    </tr>\n",
       "    <tr>\n",
       "      <th>4</th>\n",
       "      <td>0.030772</td>\n",
       "      <td>0.000897</td>\n",
       "      <td>0.016959</td>\n",
       "    </tr>\n",
       "  </tbody>\n",
       "</table>\n",
       "</div>"
      ],
      "text/plain": [
       "       pool    mutate  predict_optimize\n",
       "0  0.001490  0.000006          0.003415\n",
       "1  0.014057  0.000008          0.006818\n",
       "2  0.028596  0.000173          0.010210\n",
       "3  0.030267  0.000268          0.013590\n",
       "4  0.030772  0.000897          0.016959"
      ]
     },
     "execution_count": 120,
     "metadata": {},
     "output_type": "execute_result"
    }
   ],
   "source": [
    "benchmark_sfp.head()"
   ]
  },
  {
   "cell_type": "code",
   "execution_count": 121,
   "metadata": {},
   "outputs": [
    {
     "data": {
      "text/html": [
       "<div>\n",
       "<style scoped>\n",
       "    .dataframe tbody tr th:only-of-type {\n",
       "        vertical-align: middle;\n",
       "    }\n",
       "\n",
       "    .dataframe tbody tr th {\n",
       "        vertical-align: top;\n",
       "    }\n",
       "\n",
       "    .dataframe thead th {\n",
       "        text-align: right;\n",
       "    }\n",
       "</style>\n",
       "<table border=\"1\" class=\"dataframe\">\n",
       "  <thead>\n",
       "    <tr style=\"text-align: right;\">\n",
       "      <th></th>\n",
       "      <th>pool</th>\n",
       "      <th>mutate</th>\n",
       "      <th>predict_optimize</th>\n",
       "    </tr>\n",
       "  </thead>\n",
       "  <tbody>\n",
       "    <tr>\n",
       "      <th>0</th>\n",
       "      <td>4.247516e-07</td>\n",
       "      <td>0.000007</td>\n",
       "      <td>8.771902e-08</td>\n",
       "    </tr>\n",
       "    <tr>\n",
       "      <th>1</th>\n",
       "      <td>4.878478e-07</td>\n",
       "      <td>0.000184</td>\n",
       "      <td>1.754380e-07</td>\n",
       "    </tr>\n",
       "    <tr>\n",
       "      <th>2</th>\n",
       "      <td>3.562043e-06</td>\n",
       "      <td>0.000203</td>\n",
       "      <td>2.631570e-07</td>\n",
       "    </tr>\n",
       "    <tr>\n",
       "      <th>3</th>\n",
       "      <td>1.525973e-05</td>\n",
       "      <td>0.000419</td>\n",
       "      <td>3.508760e-07</td>\n",
       "    </tr>\n",
       "    <tr>\n",
       "      <th>4</th>\n",
       "      <td>2.772773e-05</td>\n",
       "      <td>0.000438</td>\n",
       "      <td>4.385950e-07</td>\n",
       "    </tr>\n",
       "  </tbody>\n",
       "</table>\n",
       "</div>"
      ],
      "text/plain": [
       "           pool    mutate  predict_optimize\n",
       "0  4.247516e-07  0.000007      8.771902e-08\n",
       "1  4.878478e-07  0.000184      1.754380e-07\n",
       "2  3.562043e-06  0.000203      2.631570e-07\n",
       "3  1.525973e-05  0.000419      3.508760e-07\n",
       "4  2.772773e-05  0.000438      4.385950e-07"
      ]
     },
     "execution_count": 121,
     "metadata": {},
     "output_type": "execute_result"
    }
   ],
   "source": [
    "benchmark_acps.head()"
   ]
  },
  {
   "cell_type": "markdown",
   "metadata": {},
   "source": [
    "# make fancy plots"
   ]
  },
  {
   "cell_type": "code",
   "execution_count": 122,
   "metadata": {},
   "outputs": [
    {
     "data": {
      "text/plain": [
       "\"\\n# no\\npool_col='#8dd3c7'\\npredict_col='#ffffb3'\\nmutation_col='#bebada'\\n\\npredict_col='#e41a1c'\\nmutation_col='#377eb8'\\npool_col='#4daf4a'\\n\\npredict_col = '#edf8b1'\\nmutation_col = '#7fcdbb'\\npool_col = '#2c7fb8'\\n\\npool_col = '#7fc97f'\\npredict_col = '#beaed4'\\nmutation_col = '#fdc086'\\n\\n# pretty good\\npool_col = '#1b9e77'\\npredict_col = '#d95f02'\\nmutation_col = '#7570b3'\\n\\npredict_col='#a6cee3'\\npool_col='#1f78b4'\\nmutation_col='#b2df8a'\\n\""
      ]
     },
     "execution_count": 122,
     "metadata": {},
     "output_type": "execute_result"
    }
   ],
   "source": [
    "# discarded colors\n",
    "\"\"\"\n",
    "# no\n",
    "pool_col='#8dd3c7'\n",
    "predict_col='#ffffb3'\n",
    "mutation_col='#bebada'\n",
    "\n",
    "predict_col='#e41a1c'\n",
    "mutation_col='#377eb8'\n",
    "pool_col='#4daf4a'\n",
    "\n",
    "predict_col = '#edf8b1'\n",
    "mutation_col = '#7fcdbb'\n",
    "pool_col = '#2c7fb8'\n",
    "\n",
    "pool_col = '#7fc97f'\n",
    "predict_col = '#beaed4'\n",
    "mutation_col = '#fdc086'\n",
    "\n",
    "# pretty good\n",
    "pool_col = '#1b9e77'\n",
    "predict_col = '#d95f02'\n",
    "mutation_col = '#7570b3'\n",
    "\n",
    "predict_col='#a6cee3'\n",
    "pool_col='#1f78b4'\n",
    "mutation_col='#b2df8a'\n",
    "\"\"\""
   ]
  },
  {
   "cell_type": "code",
   "execution_count": 123,
   "metadata": {},
   "outputs": [],
   "source": [
    "# colors from http://colorbrewer2.org/#type=qualitative&scheme=Accent&n=3\n",
    "pool_col = '#ca0020'\n",
    "predict_col = '#f4a582'\n",
    "mutation_col='#0571b0'"
   ]
  },
  {
   "cell_type": "code",
   "execution_count": 124,
   "metadata": {},
   "outputs": [
    {
     "data": {
      "image/png": "[encoded data removed]",
      "text/plain": [
       "<Figure size 432x288 with 1 Axes>"
      ]
     },
     "metadata": {},
     "output_type": "display_data"
    }
   ],
   "source": [
    "subset_to_plot = range(0,100,5)\n",
    "plt.plot(benchmark_sfp['pool'][subset_to_plot]*100,'o',color=pool_col,markeredgecolor='k')\n",
    "plt.plot(benchmark_sfp['mutate'][subset_to_plot]*100,'^',color=mutation_col,markeredgecolor='k')\n",
    "plt.plot(benchmark_sfp['predict_optimize'][subset_to_plot]*100,'d',color=predict_col,markeredgecolor='k')\n",
    "\n",
    "plt.plot(benchmark_sfp['pool']*100,'-',color=pool_col)\n",
    "plt.plot(benchmark_sfp['mutate']*100,'-',color=mutation_col)\n",
    "plt.plot(benchmark_sfp['predict_optimize']*100,'-',color=predict_col)\n",
    "\n",
    "plt.plot(benchmark_sfp['pool'][subset_to_plot]*100,'o',color=pool_col,markeredgecolor='k')\n",
    "plt.plot(benchmark_sfp['mutate'][subset_to_plot]*100,'^',color=mutation_col,markeredgecolor='k')\n",
    "plt.plot(benchmark_sfp['predict_optimize'][subset_to_plot]*100,'d',color=predict_col,markeredgecolor='k')\n",
    "\n",
    "plt.xlabel('# of peptides recommended')\n",
    "plt.ylabel('Probability of selectivity (%)')\n",
    "plt.text(0,60,'Sfp',fontsize=14)\n",
    "plt.ylim(0,80)\n",
    "plt.legend(['POOL','Mutation','Predict-then-Optimize'],frameon=False,loc='upper center',ncol=3)\n",
    "plt.savefig('fig3a.eps')"
   ]
  },
  {
   "cell_type": "code",
   "execution_count": 125,
   "metadata": {},
   "outputs": [
    {
     "data": {
      "image/png": "[encoded data removed]",
      "text/plain": [
       "<Figure size 432x288 with 1 Axes>"
      ]
     },
     "metadata": {},
     "output_type": "display_data"
    }
   ],
   "source": [
    "subset_to_plot = range(0,100,5)\n",
    "plt.plot(benchmark_acps['pool'][subset_to_plot]*100,'o',color=pool_col,markeredgecolor='k')\n",
    "plt.plot(benchmark_acps['mutate'][subset_to_plot]*100,'^',color=mutation_col,markeredgecolor='k')\n",
    "plt.plot(benchmark_acps['predict_optimize'][subset_to_plot]*100,'d',color=predict_col,markeredgecolor='k')\n",
    "\n",
    "plt.plot(benchmark_acps['pool']*100,'-',color=pool_col)\n",
    "plt.plot(benchmark_acps['mutate']*100,'-',color=mutation_col)\n",
    "plt.plot(benchmark_acps['predict_optimize']*100,'-',color=predict_col)\n",
    "\n",
    "plt.plot(benchmark_acps['pool'][subset_to_plot]*100,'o',color=pool_col,markeredgecolor='k')\n",
    "plt.plot(benchmark_acps['mutate'][subset_to_plot]*100,'^',color=mutation_col,markeredgecolor='k')\n",
    "plt.plot(benchmark_acps['predict_optimize'][subset_to_plot]*100,'d',color=predict_col,markeredgecolor='k')\n",
    "\n",
    "plt.xlabel('# of peptides recommended')\n",
    "plt.ylabel('Probability of selectivity (%)')\n",
    "plt.text(0,1.0,'AcpS',fontsize=14)\n",
    "plt.ylim(0,1.5)\n",
    "plt.legend(['POOL','Mutation','Predict-then-Optimize'],frameon=False,loc='upper center',ncol=3)\n",
    "plt.savefig('fig3b.eps')"
   ]
  },
  {
   "cell_type": "code",
   "execution_count": 126,
   "metadata": {},
   "outputs": [],
   "source": [
    "def closest_idx(x,y,data):\n",
    "    # pass either data_sfp or data_acps for data\n",
    "    # looks for the closest point in data using the euclidean distance\n",
    "    dist_sqr = (data['x']-x)**2 + (data['y']-y)**2\n",
    "    idx = dist_sqr.idxmin()\n",
    "    return idx\n",
    "\n",
    "def plot_lines(method_df,data_df,col):\n",
    "    for i,row in method_df.iterrows():\n",
    "        idx=closest_idx(row['x'],row['y'],data_df)\n",
    "        x = data_df.loc[idx]['x']\n",
    "        y = data_df.loc[idx]['y']\n",
    "        plt.plot([row['x'],x],[row['y'],y],col,alpha=1,linewidth=1)"
   ]
  },
  {
   "cell_type": "code",
   "execution_count": 127,
   "metadata": {},
   "outputs": [],
   "source": [
    "pool_mrk='o'\n",
    "predict_mrk='d'\n",
    "mutation_mrk='^'\n",
    "data_mrk='s'\n",
    "mrk_sz=4"
   ]
  },
  {
   "cell_type": "code",
   "execution_count": 133,
   "metadata": {},
   "outputs": [
    {
     "data": {
      "image/png": "[encoded data removed]",
      "text/plain": [
       "<Figure size 432x288 with 1 Axes>"
      ]
     },
     "metadata": {},
     "output_type": "display_data"
    }
   ],
   "source": [
    "plt.plot(pool_sfp['x'],pool_sfp['y'],pool_mrk,color=pool_col,markersize=mrk_sz)\n",
    "plt.plot(mutation_sfp['x'],mutation_sfp['y'],mutation_mrk,color=mutation_col,markersize=mrk_sz)\n",
    "plt.plot(data_sfp['x'],data_sfp['y'],data_mrk,color='0.75',markersize=mrk_sz)\n",
    "plt.plot(predict_sfp['x'],predict_sfp['y'],predict_mrk,color=predict_col,markersize=mrk_sz)\n",
    "\n",
    "plot_lines(pool_sfp,data_sfp,pool_col)\n",
    "plot_lines(mutation_sfp,data_sfp,mutation_col)\n",
    "\n",
    "# Overplot with training data first so that everything goes on top of the lines,\n",
    "# and pool and mutation last so they are the top-most layer\n",
    "plt.plot(data_sfp['x'],data_sfp['y'],data_mrk,color='0.75',markersize=mrk_sz,markeredgecolor='k')\n",
    "plt.plot(predict_sfp['x'],predict_sfp['y'],predict_mrk,color=predict_col,markersize=mrk_sz,markeredgecolor='k')\n",
    "plt.plot(mutation_sfp['x'],mutation_sfp['y'],mutation_mrk,color=mutation_col,markersize=mrk_sz,markeredgecolor='k')\n",
    "plt.plot(pool_sfp['x'],pool_sfp['y'],pool_mrk,color=pool_col,markersize=mrk_sz,markeredgecolor='k')\n",
    "\n",
    "plt.legend(['POOL','Mutation','Training Data','Predict-then-Optimize'],frameon=False,markerfirst=False)\n",
    "\n",
    "plt.xlim(-20,20)\n",
    "plt.ylim(-25,20)\n",
    "plt.xlabel('x coordinate')\n",
    "plt.ylabel('y coordinate')\n",
    "plt.text(-19,15,'Sfp',fontsize=14)\n",
    "plt.savefig('fig3c.eps',transparent=True)"
   ]
  },
  {
   "cell_type": "code",
   "execution_count": 134,
   "metadata": {},
   "outputs": [
    {
     "data": {
      "image/png": "[encoded data removed]",
      "text/plain": [
       "<Figure size 432x288 with 1 Axes>"
      ]
     },
     "metadata": {},
     "output_type": "display_data"
    }
   ],
   "source": [
    "#plt.plot(pool_acps['x'],pool_acps['y'],'.',color=pool_col)\n",
    "#plt.plot(mutation_acps['x'],mutation_acps['y'],'.',color=mutation_col)\n",
    "#plt.plot(data_acps['x'],data_acps['y'],'.',color='0.75')\n",
    "#plt.plot(predict_acps['x'],predict_acps['y'],'.',color=predict_col)\n",
    "#plot_lines(pool_acps,data_acps,pool_col)\n",
    "#plot_lines(mutation_acps,data_acps,mutation_col)\n",
    "\n",
    "plt.plot(pool_acps['x'],pool_acps['y'],pool_mrk,color=pool_col,markersize=mrk_sz)\n",
    "plt.plot(mutation_acps['x'],mutation_acps['y'],mutation_mrk,color=mutation_col,markersize=mrk_sz)\n",
    "plt.plot(data_acps['x'],data_acps['y'],data_mrk,color='0.75',markersize=mrk_sz)\n",
    "plt.plot(predict_acps['x'],predict_acps['y'],predict_mrk,color=predict_col,markersize=mrk_sz)\n",
    "\n",
    "plot_lines(pool_acps,data_acps,pool_col)\n",
    "plot_lines(mutation_acps,data_acps,mutation_col)\n",
    "\n",
    "# Overplot with training data first so that everything goes on top of the lines,\n",
    "# and pool and mutation last so they are the top-most layer\n",
    "plt.plot(data_acps['x'],data_acps['y'],data_mrk,color='0.75',markersize=mrk_sz,markeredgecolor='k')\n",
    "plt.plot(predict_acps['x'],predict_acps['y'],predict_mrk,color=predict_col,markersize=mrk_sz,markeredgecolor='k')\n",
    "plt.plot(mutation_acps['x'],mutation_acps['y'],mutation_mrk,color=mutation_col,markersize=mrk_sz,markeredgecolor='k')\n",
    "plt.plot(pool_acps['x'],pool_acps['y'],pool_mrk,color=pool_col,markersize=mrk_sz,markeredgecolor='k')\n",
    "\n",
    "plt.legend(['POOL','Mutation','Training Data','Predict-then-Optimize'],frameon=False,markerfirst=False)\n",
    "plt.xlim(-20,20)\n",
    "plt.ylim(-25,20)\n",
    "plt.xlabel('x coordinate')\n",
    "plt.ylabel('y coordinate')\n",
    "plt.text(-19,15,'AcpS',fontsize=14)\n",
    "plt.savefig('fig3d.eps',transparent=True)"
   ]
  },
  {
   "cell_type": "code",
   "execution_count": 95,
   "metadata": {},
   "outputs": [
    {
     "data": {
      "image/png": "[encoded data removed]",
      "text/plain": [
       "<Figure size 432x288 with 1 Axes>"
      ]
     },
     "metadata": {},
     "output_type": "display_data"
    }
   ],
   "source": [
    "bins = np.arange(7,step=0.25)\n",
    "plt.hist(pool_sfp['closest_data_dist'],bins,density=True,alpha=0.5,color=pool_col,histtype='bar', ec='black')\n",
    "plt.hist(mutation_sfp['closest_data_dist'],bins,density=True,alpha=0.5,color=mutation_col,histtype='bar', ec='black')\n",
    "plt.legend(['POOL','Mutation'])\n",
    "plt.xlabel('distance to closest point in original data')\n",
    "plt.ylabel('normed frequency')\n",
    "plt.text(5.5,0.6, 'Sfp',fontsize=14)\n",
    "plt.savefig('fig3e.pdf',transparent=True)"
   ]
  },
  {
   "cell_type": "code",
   "execution_count": 96,
   "metadata": {},
   "outputs": [
    {
     "data": {
      "image/png": "[encoded data removed]",
      "text/plain": [
       "<Figure size 432x288 with 1 Axes>"
      ]
     },
     "metadata": {},
     "output_type": "display_data"
    }
   ],
   "source": [
    "bins = np.arange(7,step=0.25)\n",
    "plt.hist(pool_acps['closest_data_dist'],bins,density=True,alpha=0.5,color=pool_col,histtype='bar', ec='black')\n",
    "plt.hist(mutation_acps['closest_data_dist'],bins,density=True,alpha=0.5,color=mutation_col,histtype='bar', ec='black')\n",
    "plt.legend(['POOL','Mutation'])\n",
    "plt.xlabel('distance to closest point in original data')\n",
    "plt.ylabel('normed frequency')\n",
    "plt.text(5.5,0.6, 'AcpS',fontsize=14)\n",
    "plt.savefig('fig3f.pdf',transparent=True)"
   ]
  },
  {
   "cell_type": "code",
   "execution_count": null,
   "metadata": {},
   "outputs": [],
   "source": []
  }
 ],
 "metadata": {
  "kernelspec": {
   "display_name": "Python 2",
   "language": "python",
   "name": "python2"
  },
  "language_info": {
   "codemirror_mode": {
    "name": "ipython",
    "version": 2
   },
   "file_extension": ".py",
   "mimetype": "text/x-python",
   "name": "python",
   "nbconvert_exporter": "python",
   "pygments_lexer": "ipython2",
   "version": "2.7.10"
  }
 },
 "nbformat": 4,
 "nbformat_minor": 2
}
